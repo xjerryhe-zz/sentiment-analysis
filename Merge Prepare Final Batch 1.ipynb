{
 "cells": [
  {
   "cell_type": "code",
   "execution_count": 23,
   "metadata": {
    "collapsed": false
   },
   "outputs": [],
   "source": [
    "import pandas as pd\n",
    "dat = pd.read_csv('batch1_merged.csv',encoding = \"ISO-8859-1\")"
   ]
  },
  {
   "cell_type": "code",
   "execution_count": 24,
   "metadata": {
    "collapsed": false
   },
   "outputs": [
    {
     "data": {
      "text/plain": [
       "0         -0.5\n",
       "1         -0.5\n",
       "2          0.0\n",
       "3          1.0\n",
       "4          0.0\n",
       "5          1.0\n",
       "6         -0.5\n",
       "7         -0.5\n",
       "8          0.0\n",
       "9          1.0\n",
       "10         0.0\n",
       "11         1.0\n",
       "12         0.5\n",
       "13         1.0\n",
       "14         0.0\n",
       "15         0.0\n",
       "16         0.0\n",
       "17         0.0\n",
       "18         0.0\n",
       "19         0.0\n",
       "20         1.0\n",
       "21         1.0\n",
       "22        -0.5\n",
       "23        -0.5\n",
       "24         0.0\n",
       "25         0.0\n",
       "26         1.0\n",
       "27         1.0\n",
       "28         1.0\n",
       "29         0.0\n",
       "          ... \n",
       "1048545    NaN\n",
       "1048546    NaN\n",
       "1048547    NaN\n",
       "1048548    NaN\n",
       "1048549    NaN\n",
       "1048550    NaN\n",
       "1048551    NaN\n",
       "1048552    NaN\n",
       "1048553    NaN\n",
       "1048554    NaN\n",
       "1048555    NaN\n",
       "1048556    NaN\n",
       "1048557    NaN\n",
       "1048558    NaN\n",
       "1048559    NaN\n",
       "1048560    NaN\n",
       "1048561    NaN\n",
       "1048562    NaN\n",
       "1048563    NaN\n",
       "1048564    NaN\n",
       "1048565    NaN\n",
       "1048566    NaN\n",
       "1048567    NaN\n",
       "1048568    NaN\n",
       "1048569    NaN\n",
       "1048570    NaN\n",
       "1048571    NaN\n",
       "1048572    NaN\n",
       "1048573    NaN\n",
       "1048574    NaN\n",
       "Name: SentimentScore, Length: 1048575, dtype: float64"
      ]
     },
     "execution_count": 24,
     "metadata": {},
     "output_type": "execute_result"
    }
   ],
   "source": [
    "dat['SentimentScore']"
   ]
  },
  {
   "cell_type": "code",
   "execution_count": 36,
   "metadata": {
    "collapsed": false
   },
   "outputs": [],
   "source": [
    "ans_ = dat"
   ]
  },
  {
   "cell_type": "code",
   "execution_count": 26,
   "metadata": {
    "collapsed": true
   },
   "outputs": [],
   "source": [
    "ans_['Score_all']=ans_['Score_all'].fillna(\"NA\")"
   ]
  },
  {
   "cell_type": "markdown",
   "metadata": {},
   "source": [
    "## Infomedia positive, we positive"
   ]
  },
  {
   "cell_type": "code",
   "execution_count": 31,
   "metadata": {
    "collapsed": false
   },
   "outputs": [
    {
     "data": {
      "text/plain": [
       "15683"
      ]
     },
     "execution_count": 31,
     "metadata": {},
     "output_type": "execute_result"
    }
   ],
   "source": [
    "sum((ans_['Score_all']>1e-7)&(ans_['SentimentScore']>1e-7))"
   ]
  },
  {
   "cell_type": "code",
   "execution_count": null,
   "metadata": {
    "collapsed": true
   },
   "outputs": [],
   "source": []
  },
  {
   "cell_type": "code",
   "execution_count": 67,
   "metadata": {
    "collapsed": true
   },
   "outputs": [],
   "source": [
    "def positive(k, tol=1e-7):\n",
    "    return ans_[k]>tol"
   ]
  },
  {
   "cell_type": "code",
   "execution_count": 68,
   "metadata": {
    "collapsed": true
   },
   "outputs": [],
   "source": [
    "def negative(k, tol=1e-7):\n",
    "    return ans_[k]<-tol\n",
    "\n",
    "def neutral(k, tol=1e-7):\n",
    "    return abs(ans_[k])<tol"
   ]
  },
  {
   "cell_type": "markdown",
   "metadata": {},
   "source": [
    "## Infomedia negative, we negative"
   ]
  },
  {
   "cell_type": "code",
   "execution_count": 32,
   "metadata": {
    "collapsed": false
   },
   "outputs": [
    {
     "data": {
      "text/plain": [
       "2662"
      ]
     },
     "execution_count": 32,
     "metadata": {},
     "output_type": "execute_result"
    }
   ],
   "source": [
    "sum((ans_['Score_all']<-1e-7)&(ans_['SentimentScore']<-1e-7))"
   ]
  },
  {
   "cell_type": "code",
   "execution_count": 41,
   "metadata": {
    "collapsed": false
   },
   "outputs": [],
   "source": [
    "import numpy as np\n",
    "ans_=ans_.replace(r'NA', np.nan, regex=True)"
   ]
  },
  {
   "cell_type": "code",
   "execution_count": 43,
   "metadata": {
    "collapsed": false
   },
   "outputs": [
    {
     "data": {
      "text/plain": [
       "0         -0.5\n",
       "1         -0.5\n",
       "2          0.0\n",
       "3          1.0\n",
       "4          0.0\n",
       "5          1.0\n",
       "6         -0.5\n",
       "7         -0.5\n",
       "8          0.0\n",
       "9          1.0\n",
       "10         0.0\n",
       "11         1.0\n",
       "12         0.5\n",
       "13         1.0\n",
       "14         0.0\n",
       "15         0.0\n",
       "16         0.0\n",
       "17         0.0\n",
       "18         0.0\n",
       "19         0.0\n",
       "20         1.0\n",
       "21         1.0\n",
       "22        -0.5\n",
       "23        -0.5\n",
       "24         0.0\n",
       "25         0.0\n",
       "26         1.0\n",
       "27         1.0\n",
       "28         1.0\n",
       "29         0.0\n",
       "          ... \n",
       "1048545    NaN\n",
       "1048546    NaN\n",
       "1048547    NaN\n",
       "1048548    NaN\n",
       "1048549    NaN\n",
       "1048550    NaN\n",
       "1048551    NaN\n",
       "1048552    NaN\n",
       "1048553    NaN\n",
       "1048554    NaN\n",
       "1048555    NaN\n",
       "1048556    NaN\n",
       "1048557    NaN\n",
       "1048558    NaN\n",
       "1048559    NaN\n",
       "1048560    NaN\n",
       "1048561    NaN\n",
       "1048562    NaN\n",
       "1048563    NaN\n",
       "1048564    NaN\n",
       "1048565    NaN\n",
       "1048566    NaN\n",
       "1048567    NaN\n",
       "1048568    NaN\n",
       "1048569    NaN\n",
       "1048570    NaN\n",
       "1048571    NaN\n",
       "1048572    NaN\n",
       "1048573    NaN\n",
       "1048574    NaN\n",
       "Name: SentimentScore, Length: 1048575, dtype: float64"
      ]
     },
     "execution_count": 43,
     "metadata": {},
     "output_type": "execute_result"
    }
   ],
   "source": [
    "ans_['SentimentScore']"
   ]
  },
  {
   "cell_type": "markdown",
   "metadata": {},
   "source": [
    "## Infomedia positive, we neutral"
   ]
  },
  {
   "cell_type": "code",
   "execution_count": 42,
   "metadata": {
    "collapsed": false
   },
   "outputs": [
    {
     "data": {
      "text/plain": [
       "14784"
      ]
     },
     "execution_count": 42,
     "metadata": {},
     "output_type": "execute_result"
    }
   ],
   "source": [
    "sum((abs(ans_['Score_all'])<1e-7)&(ans_['SentimentScore']>1e-7))"
   ]
  },
  {
   "cell_type": "markdown",
   "metadata": {},
   "source": [
    "## Infomedia positive, we negative"
   ]
  },
  {
   "cell_type": "code",
   "execution_count": 135,
   "metadata": {
    "collapsed": false
   },
   "outputs": [
    {
     "data": {
      "text/plain": [
       "4537"
      ]
     },
     "execution_count": 135,
     "metadata": {},
     "output_type": "execute_result"
    }
   ],
   "source": [
    "sum((ans_['Score_all']<-1e-7)&(ans_['SentimentScore']>1e-7))"
   ]
  },
  {
   "cell_type": "markdown",
   "metadata": {},
   "source": [
    "## Infomedia neutral, we neutral"
   ]
  },
  {
   "cell_type": "code",
   "execution_count": 44,
   "metadata": {
    "collapsed": false
   },
   "outputs": [
    {
     "data": {
      "text/plain": [
       "12128"
      ]
     },
     "execution_count": 44,
     "metadata": {},
     "output_type": "execute_result"
    }
   ],
   "source": [
    "sum((abs(ans_['Score_all'])<1e-7)&(abs(ans_['SentimentScore'])<1e-7))"
   ]
  },
  {
   "cell_type": "markdown",
   "metadata": {},
   "source": [
    "## Infomedia neutral, we positive"
   ]
  },
  {
   "cell_type": "code",
   "execution_count": 45,
   "metadata": {
    "collapsed": false
   },
   "outputs": [
    {
     "data": {
      "text/plain": [
       "6660"
      ]
     },
     "execution_count": 45,
     "metadata": {},
     "output_type": "execute_result"
    }
   ],
   "source": [
    "sum((ans_['Score_all']>1e-7)&(abs(ans_['SentimentScore'])<1e-7))"
   ]
  },
  {
   "cell_type": "markdown",
   "metadata": {},
   "source": [
    "## Infomedia neutral, we negative"
   ]
  },
  {
   "cell_type": "code",
   "execution_count": 46,
   "metadata": {
    "collapsed": false
   },
   "outputs": [
    {
     "data": {
      "text/plain": [
       "3521"
      ]
     },
     "execution_count": 46,
     "metadata": {},
     "output_type": "execute_result"
    }
   ],
   "source": [
    "sum((ans_['Score_all']<-1e-7)&(abs(ans_['SentimentScore'])<1e-7))"
   ]
  },
  {
   "cell_type": "markdown",
   "metadata": {},
   "source": [
    "## Infomedia negative, we neutral"
   ]
  },
  {
   "cell_type": "code",
   "execution_count": 55,
   "metadata": {
    "collapsed": false
   },
   "outputs": [
    {
     "data": {
      "text/plain": [
       "4313"
      ]
     },
     "execution_count": 55,
     "metadata": {},
     "output_type": "execute_result"
    }
   ],
   "source": [
    "sum(neutral('Score_all')&negative('SentimentScore'))"
   ]
  },
  {
   "cell_type": "markdown",
   "metadata": {},
   "source": [
    "## Infomedia negative, we positive"
   ]
  },
  {
   "cell_type": "code",
   "execution_count": 48,
   "metadata": {
    "collapsed": false
   },
   "outputs": [
    {
     "data": {
      "text/plain": [
       "2662"
      ]
     },
     "execution_count": 48,
     "metadata": {},
     "output_type": "execute_result"
    }
   ],
   "source": [
    "sum((ans_['Score_all']<-1e-7)&(ans_['SentimentScore']<-1e-7))"
   ]
  },
  {
   "cell_type": "code",
   "execution_count": 69,
   "metadata": {
    "collapsed": true
   },
   "outputs": [],
   "source": [
    "def correct_count(ans_):\n",
    "    count_ = 0\n",
    "    for fun_ in [positive, negative, neutral]:\n",
    "        count_+=sum(fun_('Score_all')&fun_('SentimentScore'))\n",
    "    return count_"
   ]
  },
  {
   "cell_type": "code",
   "execution_count": null,
   "metadata": {
    "collapsed": true
   },
   "outputs": [],
   "source": []
  },
  {
   "cell_type": "code",
   "execution_count": 70,
   "metadata": {
    "collapsed": false
   },
   "outputs": [
    {
     "data": {
      "text/plain": [
       "27572"
      ]
     },
     "execution_count": 70,
     "metadata": {},
     "output_type": "execute_result"
    }
   ],
   "source": [
    "correct_count(ans_)"
   ]
  },
  {
   "cell_type": "code",
   "execution_count": 60,
   "metadata": {
    "collapsed": true
   },
   "outputs": [],
   "source": [
    "def correct_count(ans_):\n",
    "    return sum((abs(ans_['Score_all'])<1)&(abs(ans_['SentimentScore'])<1e-7))+sum((ans_['Score_all']>1e-7)&(ans_['SentimentScore']>1e-7))+sum((ans_['Score_all']>1e-7)&(ans_['SentimentScore']>1e-7))"
   ]
  },
  {
   "cell_type": "code",
   "execution_count": 64,
   "metadata": {
    "collapsed": false
   },
   "outputs": [
    {
     "data": {
      "text/plain": [
       "31502"
      ]
     },
     "execution_count": 64,
     "metadata": {},
     "output_type": "execute_result"
    }
   ],
   "source": [
    "sum((abs(ans_['Score_all'])<1e-7))"
   ]
  },
  {
   "cell_type": "code",
   "execution_count": null,
   "metadata": {
    "collapsed": true
   },
   "outputs": [],
   "source": [
    "def incorrect_count(ans_):\n",
    "    return sum((abs(ans_['Score_all'])<1e-7)&(abs(ans_['SentimentScore'])<1e-7))+sum((ans_['Score_all']>1e-7)&(ans_['SentimentScore']>1e-7))+sum((ans_['Score_all']>1e-7)&(ans_['SentimentScore']>1e-7))"
   ]
  },
  {
   "cell_type": "code",
   "execution_count": 50,
   "metadata": {
    "collapsed": true
   },
   "outputs": [],
   "source": [
    "def incorrect_count(ans_):\n",
    "    return {\n",
    "        'neutrals':sum((ans_['Score_all']<-1e-7)&(abs(ans_['SentimentScore'])<1e-7))+sum((ans_['Score_all']>1e-7)&(abs(ans_['SentimentScore'])<1e-7)),\n",
    "        'positives':sum((abs(ans_['Score_all'])<1e-7)&(ans_['SentimentScore']>1e-7))+sum((ans_['Score_all']<-1e-7)&(ans_['SentimentScore']>1e-7)),\n",
    "        'negatives':sum((ans_['Score_all']<-1e-7)&(ans_['SentimentScore']<-1e-7))+sum((abs(ans_['Score_all'])<1e-7)&(ans_['SentimentScore']<-1e-7))\n",
    "    }"
   ]
  },
  {
   "cell_type": "code",
   "execution_count": 51,
   "metadata": {
    "collapsed": false
   },
   "outputs": [
    {
     "data": {
      "text/plain": [
       "<function __main__.positive>"
      ]
     },
     "execution_count": 51,
     "metadata": {},
     "output_type": "execute_result"
    }
   ],
   "source": [
    "positive"
   ]
  },
  {
   "cell_type": "code",
   "execution_count": 153,
   "metadata": {
    "collapsed": false
   },
   "outputs": [
    {
     "data": {
      "text/plain": [
       "49764"
      ]
     },
     "execution_count": 153,
     "metadata": {},
     "output_type": "execute_result"
    }
   ],
   "source": [
    "correct_count(ans_)"
   ]
  },
  {
   "cell_type": "code",
   "execution_count": 154,
   "metadata": {
    "collapsed": false
   },
   "outputs": [
    {
     "data": {
      "text/plain": [
       "0.6750956399055811"
      ]
     },
     "execution_count": 154,
     "metadata": {},
     "output_type": "execute_result"
    }
   ],
   "source": [
    "49764/73714.0"
   ]
  },
  {
   "cell_type": "code",
   "execution_count": 144,
   "metadata": {
    "collapsed": false
   },
   "outputs": [
    {
     "data": {
      "text/plain": [
       "{'negatives': 6179, 'neutrals': 13343, 'positives': 15196}"
      ]
     },
     "execution_count": 144,
     "metadata": {},
     "output_type": "execute_result"
    }
   ],
   "source": [
    "incorrect_count(ans_)"
   ]
  },
  {
   "cell_type": "code",
   "execution_count": 146,
   "metadata": {
    "collapsed": false
   },
   "outputs": [
    {
     "data": {
      "text/plain": [
       "0.55167871900826448"
      ]
     },
     "execution_count": 146,
     "metadata": {},
     "output_type": "execute_result"
    }
   ],
   "source": [
    "correct_count(ans_)/float(sum(incorrect_count(ans_).values())+correct_count(ans_))"
   ]
  },
  {
   "cell_type": "code",
   "execution_count": 92,
   "metadata": {
    "collapsed": false
   },
   "outputs": [
    {
     "data": {
      "text/plain": [
       "0.51157994923857864"
      ]
     },
     "execution_count": 92,
     "metadata": {},
     "output_type": "execute_result"
    }
   ],
   "source": [
    "(abs(neutrals[neutrals['SentimentScore']==0.0].Score_all)< 1e-7).mean()"
   ]
  },
  {
   "cell_type": "code",
   "execution_count": null,
   "metadata": {
    "collapsed": true
   },
   "outputs": [],
   "source": []
  }
 ],
 "metadata": {
  "kernelspec": {
   "display_name": "Python 2",
   "language": "python",
   "name": "python2"
  },
  "language_info": {
   "codemirror_mode": {
    "name": "ipython",
    "version": 2
   },
   "file_extension": ".py",
   "mimetype": "text/x-python",
   "name": "python",
   "nbconvert_exporter": "python",
   "pygments_lexer": "ipython2",
   "version": "2.7.13"
  }
 },
 "nbformat": 4,
 "nbformat_minor": 1
}
